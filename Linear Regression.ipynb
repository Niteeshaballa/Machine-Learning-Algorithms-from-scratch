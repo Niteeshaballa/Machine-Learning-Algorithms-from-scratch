{
 "cells": [
  {
   "cell_type": "markdown",
   "metadata": {},
   "source": [
    "# Implementation of Linear Regression from scratch"
   ]
  },
  {
   "cell_type": "code",
   "execution_count": 1,
   "metadata": {},
   "outputs": [],
   "source": [
    "import numpy as np\n",
    "import matplotlib.pyplot as plt\n",
    "from sklearn.datasets import load_boston"
   ]
  },
  {
   "cell_type": "code",
   "execution_count": 2,
   "metadata": {},
   "outputs": [],
   "source": [
    "#load and split the data\n",
    "data = load_boston()\n",
    "X, y = data['data'], data['target']"
   ]
  },
  {
   "cell_type": "code",
   "execution_count": 3,
   "metadata": {},
   "outputs": [],
   "source": [
    "#custom train test split\n",
    "def train_test_divide(X, y, test_size=0.3, random_state=42):\n",
    "    np.random.seed(random_state)\n",
    "    train_size = 1- test_size\n",
    "    arr_rand = np.random.rand(X.shape[0])                 # returns X.shape[0] random values between 0 and 1\n",
    "    split = arr_rand < np.percentile(arr_rand, (100*0.7)) # returns true /false for the values in the array \n",
    "    X_train = X[split]\n",
    "    y_train = y[split]\n",
    "    X_test = X[~split]\n",
    "    y_test = y[~split]\n",
    "    \n",
    "    return X_train, X_test, y_train, y_test\n",
    "\n",
    "X_train, X_test, y_train, y_test = train_test_divide(X, y)"
   ]
  },
  {
   "cell_type": "code",
   "execution_count": 4,
   "metadata": {},
   "outputs": [],
   "source": [
    "#cost function - Mean square error\n",
    "def mse(preds, y):\n",
    "    m = len(y)\n",
    "    cost = (1/m) * (np.sum(np.square(y-preds)))\n",
    "    return cost"
   ]
  },
  {
   "cell_type": "code",
   "execution_count": 5,
   "metadata": {},
   "outputs": [],
   "source": [
    "class LinearRegression:\n",
    "    def __init__(self, X, y):\n",
    "        self.X = X\n",
    "        self.y = y\n",
    "        self.m = len(y)\n",
    "        self.bgd = False\n",
    "    \n",
    "    def add_intercept_term(self, X):\n",
    "        X = np.insert(X, 1, np.ones(X.shape[0:1]), axis=1).copy()\n",
    "        return X\n",
    "    \n",
    "    def feature_scale(self, X):\n",
    "        X = (X - X.mean()) / (X.std())\n",
    "        return X\n",
    "    \n",
    "    def initialize_thetas(self):\n",
    "        np.random.seed(42)\n",
    "        self.thetas = np.random.rand(self.X.shape[1])\n",
    "        \n",
    "    def normal_equations(self):\n",
    "        A = np.linalg.inv(np.dot(self.X.T, self.X))\n",
    "        B = np.dot(self.X.T, self.y)\n",
    "        thetas = np.dot(A,B)\n",
    "        return thetas\n",
    "    \n",
    "    def batch_gradient_descent(self, alpha, n_iterations):\n",
    "        self.cost_history = [0] * n_iterations\n",
    "        self.n_iterations = n_iterations\n",
    "        for i in range(n_iterations):\n",
    "            h = np.dot(self.X, self.thetas.T)\n",
    "            gradient =  alpha * (1/self.m) * ((h - self.y).dot(self.X))\n",
    "            self.thetas = self.thetas - gradient\n",
    "            self.cost_history[i] = mse(np.dot(self.X, self.thetas.T) , self.y)\n",
    "            return self.thetas\n",
    "        \n",
    "    def fit(self, bgd=False, alpha=0.158, n_iterations=4000):\n",
    "        self.X = self.add_intercept_term(self.X)\n",
    "        self.X = self.feature_scale(self.X)\n",
    "        if bgd == False:\n",
    "            self.thetas = self.normal_equations()\n",
    "        else:\n",
    "            self.bgd = True\n",
    "            self.initialize_thetas()\n",
    "            self.thetas = self.batch_gradient_descent(alpha, n_iterations)\n",
    "            \n",
    "    def predict(self, X_test):\n",
    "        self.X_test = X_test.copy()\n",
    "        self.X_test = self.add_intercept_term(self.X_test)\n",
    "        self.X_test = self.feature_scale(self.X_test)\n",
    "        predictions = np.dot(self.X_test, self.thetas.T)\n",
    "        return predictions\n",
    "    \n",
    "    def plot_cost_function(self):\n",
    "        \n",
    "        if self.bgd == True:\n",
    "            plt.plot(range((self.n_iterations)),self.cost_history)\n",
    "            plt.xlabel('No. of iterations')\n",
    "            plt.ylabel('Cost Function')\n",
    "            plt.title('Gradient Descent Cost Function Line Plot')\n",
    "            plt.show()\n",
    "        else:\n",
    "            print('Batch Gradient Descent was not used!')"
   ]
  },
  {
   "cell_type": "markdown",
   "metadata": {},
   "source": [
    "### Gradient Descent"
   ]
  },
  {
   "cell_type": "code",
   "execution_count": 6,
   "metadata": {},
   "outputs": [],
   "source": [
    "lin_reg_bgd = LinearRegression(X_train, y_train)\n",
    "lin_reg_bgd.fit(bgd=True)"
   ]
  },
  {
   "cell_type": "code",
   "execution_count": 7,
   "metadata": {},
   "outputs": [
    {
     "data": {
      "text/plain": [
       "684.8118946719213"
      ]
     },
     "execution_count": 7,
     "metadata": {},
     "output_type": "execute_result"
    }
   ],
   "source": [
    "mse(y_test, lin_reg_bgd.predict(X_test))"
   ]
  },
  {
   "cell_type": "code",
   "execution_count": 8,
   "metadata": {},
   "outputs": [
    {
     "data": {
      "image/png": "[encoded data removed]",
      "text/plain": [
       "<Figure size 432x288 with 1 Axes>"
      ]
     },
     "metadata": {
      "needs_background": "light"
     },
     "output_type": "display_data"
    }
   ],
   "source": [
    "lin_reg_bgd.plot_cost_function()"
   ]
  },
  {
   "cell_type": "code",
   "execution_count": 9,
   "metadata": {},
   "outputs": [
    {
     "data": {
      "text/plain": [
       "22.15141775965222"
      ]
     },
     "execution_count": 9,
     "metadata": {},
     "output_type": "execute_result"
    }
   ],
   "source": [
    "lin_reg_normal = LinearRegression(X_train, y_train)\n",
    "lin_reg_normal.fit()\n",
    "mse(y_test, lin_reg_normal.predict(X_test))"
   ]
  },
  {
   "cell_type": "code",
   "execution_count": null,
   "metadata": {},
   "outputs": [],
   "source": []
  }
 ],
 "metadata": {
  "kernelspec": {
   "display_name": "Python 3",
   "language": "python",
   "name": "python3"
  },
  "language_info": {
   "codemirror_mode": {
    "name": "ipython",
    "version": 3
   },
   "file_extension": ".py",
   "mimetype": "text/x-python",
   "name": "python",
   "nbconvert_exporter": "python",
   "pygments_lexer": "ipython3",
   "version": "3.8.5"
  }
 },
 "nbformat": 4,
 "nbformat_minor": 4
}
